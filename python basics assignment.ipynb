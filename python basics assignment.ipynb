{
 "cells": [
  {
   "cell_type": "code",
   "execution_count": 7,
   "id": "d3305113",
   "metadata": {},
   "outputs": [
    {
     "name": "stdout",
     "output_type": "stream",
     "text": [
      "23\n",
      "['Hey i am from New Delhi']\n"
     ]
    },
    {
     "data": {
      "text/plain": [
       "list"
      ]
     },
     "execution_count": 7,
     "metadata": {},
     "output_type": "execute_result"
    }
   ],
   "source": [
    "s = \"Hey i am from New Delhi\"\n",
    "print(len(s))\n",
    "li = s.split(', ')\n",
    "print(li)\n",
    "type(li)"
   ]
  },
  {
   "cell_type": "code",
   "execution_count": 16,
   "id": "af69a364",
   "metadata": {},
   "outputs": [
    {
     "data": {
      "text/plain": [
       "'NAME IS RAHUL'"
      ]
     },
     "execution_count": 16,
     "metadata": {},
     "output_type": "execute_result"
    }
   ],
   "source": [
    "s = \"name is rahul\"\n",
    "s.replace(\"n\",\"N\")"
   ]
  },
  {
   "cell_type": "code",
   "execution_count": 17,
   "id": "4c414172",
   "metadata": {},
   "outputs": [
    {
     "data": {
      "text/plain": [
       "'Rame is rahul'"
      ]
     },
     "execution_count": 17,
     "metadata": {},
     "output_type": "execute_result"
    }
   ],
   "source": [
    "s = \"name is rahul\"\n",
    "s.replace(\"n\",\"R\")"
   ]
  },
  {
   "cell_type": "code",
   "execution_count": 18,
   "id": "c7aa43aa",
   "metadata": {},
   "outputs": [
    {
     "data": {
      "text/plain": [
       "'NAME IS RAHUL'"
      ]
     },
     "execution_count": 18,
     "metadata": {},
     "output_type": "execute_result"
    }
   ],
   "source": [
    "s = \"name is rahul\"\n",
    "s.upper()"
   ]
  },
  {
   "cell_type": "code",
   "execution_count": 21,
   "id": "82eca193",
   "metadata": {},
   "outputs": [
    {
     "name": "stdout",
     "output_type": "stream",
     "text": [
      "enter length: 4\n",
      "enter breadth: 5\n",
      "18.0\n"
     ]
    }
   ],
   "source": [
    "#length =l breadth = b\n",
    "l = float(input(\"enter length: \"))\n",
    "b = float(input(\"enter breadth: \"))\n",
    "perimeter = 2*(l + b)\n",
    "print(perimeter)\n"
   ]
  },
  {
   "cell_type": "code",
   "execution_count": 23,
   "id": "4bfac857",
   "metadata": {},
   "outputs": [
    {
     "name": "stdout",
     "output_type": "stream",
     "text": [
      "enter diameter: 6\n",
      "18.84\n",
      "28.259999999999998\n"
     ]
    }
   ],
   "source": [
    "#diameter = d radius = r\n",
    "d = float(input(\"enter diameter: \"))\n",
    "r = d/2\n",
    "circumference = 2*3.14*r\n",
    "print(circumference)\n",
    "area = 3.14*r*r\n",
    "print(area)"
   ]
  },
  {
   "cell_type": "code",
   "execution_count": 28,
   "id": "2a49225f",
   "metadata": {},
   "outputs": [
    {
     "name": "stdout",
     "output_type": "stream",
     "text": [
      "roots are \n",
      "(-3.414213562373095+0j)\n",
      "(-0.5857864376269049+0j)\n"
     ]
    }
   ],
   "source": [
    "#ax^2+bx+c\n",
    "import cmath\n",
    "a = 1\n",
    "b = 4\n",
    "c = 2\n",
    "#discriminant\n",
    "dis = (b**2) - (4* a*c)\n",
    "#two roots\n",
    "root1 = (-b-cmath.sqrt(dis))/(2*a)\n",
    "root2 = (-b+cmath.sqrt(dis))/(2*a)\n",
    "print(\"roots are \")\n",
    "print(root1)\n",
    "print(root2)"
   ]
  },
  {
   "cell_type": "code",
   "execution_count": 32,
   "id": "0a0c5a4f",
   "metadata": {},
   "outputs": [
    {
     "name": "stdout",
     "output_type": "stream",
     "text": [
      "enter radius: 4\n",
      "267.94666666666666\n"
     ]
    }
   ],
   "source": [
    "# radius = r volume =v\n",
    "r = float(input(\"enter radius: \"))\n",
    "v = 4/3 * 3.14*r**3\n",
    "print(v)"
   ]
  },
  {
   "cell_type": "code",
   "execution_count": 39,
   "id": "630a3e23",
   "metadata": {},
   "outputs": [
    {
     "name": "stdout",
     "output_type": "stream",
     "text": [
      "enter the number: 234\n",
      "3\n"
     ]
    }
   ],
   "source": [
    "n = int(input(\"enter the number: \"))\n",
    "count = 0\n",
    "while(n>0):\n",
    "    count=count+1\n",
    "    n=n//10\n",
    "print(count)"
   ]
  },
  {
   "cell_type": "code",
   "execution_count": 45,
   "id": "e74f75ac",
   "metadata": {},
   "outputs": [
    {
     "name": "stdout",
     "output_type": "stream",
     "text": [
      "enter the string: my name is vamsi\n"
     ]
    },
    {
     "data": {
      "text/plain": [
       "'MY NAME IS VAMSI'"
      ]
     },
     "execution_count": 45,
     "metadata": {},
     "output_type": "execute_result"
    }
   ],
   "source": [
    "str = input(\"enter the string: \")\n",
    "str.upper()"
   ]
  },
  {
   "cell_type": "code",
   "execution_count": 53,
   "id": "7afea91c",
   "metadata": {},
   "outputs": [
    {
     "name": "stdout",
     "output_type": "stream",
     "text": [
      "thid is string\n"
     ]
    }
   ],
   "source": [
    "str = \"this is string\"\n",
    "n = 3\n",
    "replacement ='d'\n",
    "str = str[0:n] + replacement  +str[n+1: ]\n",
    "print(str)\n"
   ]
  },
  {
   "cell_type": "code",
   "execution_count": 55,
   "id": "f28fca83",
   "metadata": {},
   "outputs": [
    {
     "name": "stdout",
     "output_type": "stream",
     "text": [
      "ismaV ma i\n"
     ]
    }
   ],
   "source": [
    "str = 'i am Vamsi'[::-1]\n",
    "print(str)"
   ]
  },
  {
   "cell_type": "code",
   "execution_count": null,
   "id": "35c94ad4",
   "metadata": {},
   "outputs": [],
   "source": []
  }
 ],
 "metadata": {
  "kernelspec": {
   "display_name": "Python 3",
   "language": "python",
   "name": "python3"
  },
  "language_info": {
   "codemirror_mode": {
    "name": "ipython",
    "version": 3
   },
   "file_extension": ".py",
   "mimetype": "text/x-python",
   "name": "python",
   "nbconvert_exporter": "python",
   "pygments_lexer": "ipython3",
   "version": "3.9.5"
  }
 },
 "nbformat": 4,
 "nbformat_minor": 5
}
